{
 "cells": [
  {
   "cell_type": "code",
   "execution_count": null,
   "metadata": {},
   "outputs": [],
   "source": [
    "# File Read\n",
    "#wisconsin_breast_cancer\n",
    "import pandas as pd\n",
    "data = pd.read_csv('wisconsin_breast_cancer.csv')\n",
    "data.head()\n",
    "\n",
    "# Data Cleaning\n",
    "Identification of Null values\n",
    "import pandas as pd\n",
    "df = pd.read_csv('wisconsin_breast_cancer.csv')\n",
    "df.isnull().sum()\n",
    "\n",
    "# Checking Null values and replacing Null values with with Mean values\n",
    "import pandas as pd\n",
    "data = pd.read_csv('wisconsin_breast_cancer.csv')\n",
    "data_new = data.copy()                                 # Create copy of DataFrame\n",
    "data_new = data_new.fillna(data_new.mean())            # Mean imputation\n",
    "#print(data_new)\n",
    "data_new=data_new.rename(columns = {'class':'cancer'})\n",
    "print(data_new)\n",
    "data_new.to_csv(\"Final2.csv\")\n",
    "\n"
   ]
  }
 ],
 "metadata": {
  "language_info": {
   "name": "python"
  },
  "orig_nbformat": 4
 },
 "nbformat": 4,
 "nbformat_minor": 2
}
